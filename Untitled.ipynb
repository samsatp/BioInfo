{
 "cells": [
  {
   "cell_type": "code",
   "execution_count": 2,
   "metadata": {},
   "outputs": [],
   "source": [
    "import numpy as np\n",
    "import sys\n",
    "import time"
   ]
  },
  {
   "cell_type": "code",
   "execution_count": 18,
   "metadata": {},
   "outputs": [],
   "source": [
    "def assembledata(ddir):\n",
    "\n",
    "    checkdata = np.load(ddir+\"portion/ncRNApair_data0.npy\")\n",
    "    dsize = len(checkdata) + 1\n",
    "    print('dsize =',dsize)\n",
    "    genelen = len(checkdata[0])\n",
    "    width = len(checkdata[0][0])\n",
    "\n",
    "    data = np.empty((0,genelen,width), dtype=np.float32)\n",
    "    label = np.empty((0), dtype=np.int32)\n",
    "\n",
    "    print(\"Makeing data...\")\n",
    "    start = time.time()\n",
    "\n",
    "    for i in range(2):\n",
    "        indata = ddir + \"portion/ncRNApair_data\"+str(i)+\".npy\"\n",
    "        inlabel = ddir + \"portion/ncRNApair_label\"+str(i)+\".npy\"\n",
    "\n",
    "        tmpdata = np.load(indata)\n",
    "        tmplabel = np.load(inlabel)\n",
    "        \n",
    "        print(tmpdata.shape[0])\n",
    "\n",
    "        data = np.concatenate([data, tmpdata], axis=0)\n",
    "        label = np.concatenate([label, tmplabel], axis=0)\n",
    "\n",
    "    print(\"Complete makeing data.\")\n",
    "    elapsed_time = time.time() - start\n",
    "    print (\"Loding time:{0}\".format(elapsed_time) + \"[sec]\")\n",
    "    print(\"Data size :\",len(data),\"*\",len(data[0]),\"*\",len(data[0][0]))\n",
    "\n",
    "    print('here :',ddir+\"/ncRNApair_data.npy\")\n",
    "    np.save(ddir+\"ncRNApair_data.npy\", data)\n",
    "    np.save(ddir+\"ncRNApair_label.npy\", label)\n"
   ]
  },
  {
   "cell_type": "code",
   "execution_count": 19,
   "metadata": {},
   "outputs": [
    {
     "name": "stdout",
     "output_type": "stream",
     "text": [
      "dsize = 60\n",
      "Makeing data...\n",
      "59\n",
      "58\n",
      "Complete makeing data.\n",
      "Loding time:0.01894521713256836[sec]\n",
      "Data size : 117 * 1200 * 16\n",
      "here : /ncRNApair_data.npy\n"
     ]
    }
   ],
   "source": [
    "datadir = sys.argv[1]\n",
    "if datadir[-1] == \"/\":\n",
    "    datadir = datadir[:-1]\n",
    "\n",
    "assembledata('')"
   ]
  },
  {
   "cell_type": "code",
   "execution_count": 236,
   "metadata": {},
   "outputs": [],
   "source": [
    "x_test = np.load('ncRNApair_data.npy')"
   ]
  },
  {
   "cell_type": "code",
   "execution_count": 254,
   "metadata": {},
   "outputs": [
    {
     "data": {
      "text/plain": [
       "(117, 1200, 16)"
      ]
     },
     "execution_count": 254,
     "metadata": {},
     "output_type": "execute_result"
    }
   ],
   "source": [
    "x_test.shape"
   ]
  },
  {
   "cell_type": "code",
   "execution_count": 238,
   "metadata": {},
   "outputs": [],
   "source": [
    "y_test = np.load('ncRNApair_label.npy')"
   ]
  },
  {
   "cell_type": "code",
   "execution_count": 256,
   "metadata": {},
   "outputs": [
    {
     "data": {
      "text/plain": [
       "(117,)"
      ]
     },
     "execution_count": 256,
     "metadata": {},
     "output_type": "execute_result"
    }
   ],
   "source": [
    "y_test.shape"
   ]
  },
  {
   "cell_type": "markdown",
   "metadata": {},
   "source": [
    "# Model"
   ]
  },
  {
   "cell_type": "code",
   "execution_count": 27,
   "metadata": {},
   "outputs": [],
   "source": [
    "import tensorflow as tf"
   ]
  },
  {
   "cell_type": "code",
   "execution_count": 221,
   "metadata": {},
   "outputs": [],
   "source": [
    "cnn = tf.keras.models.Sequential()"
   ]
  },
  {
   "cell_type": "code",
   "execution_count": 222,
   "metadata": {},
   "outputs": [],
   "source": [
    "cnn.add(tf.keras.layers.Conv1D(filters=32, kernel_size=3, activation='relu', input_shape=(1200,16)))"
   ]
  },
  {
   "cell_type": "code",
   "execution_count": 223,
   "metadata": {},
   "outputs": [],
   "source": [
    "cnn.add(tf.keras.layers.MaxPool1D(pool_size=2, strides=2))"
   ]
  },
  {
   "cell_type": "code",
   "execution_count": 224,
   "metadata": {},
   "outputs": [],
   "source": [
    "cnn.add(tf.keras.layers.Conv1D(filters=32, kernel_size=3, activation='relu'))\n",
    "cnn.add(tf.keras.layers.MaxPool1D(pool_size=2, strides=2))"
   ]
  },
  {
   "cell_type": "code",
   "execution_count": 225,
   "metadata": {},
   "outputs": [],
   "source": [
    "cnn.add(tf.keras.layers.Flatten())"
   ]
  },
  {
   "cell_type": "code",
   "execution_count": 226,
   "metadata": {},
   "outputs": [],
   "source": [
    "cnn.add(tf.keras.layers.Dense(units=128, activation='relu'))"
   ]
  },
  {
   "cell_type": "code",
   "execution_count": 227,
   "metadata": {},
   "outputs": [],
   "source": [
    "cnn.add(tf.keras.layers.BatchNormalization())"
   ]
  },
  {
   "cell_type": "code",
   "execution_count": 228,
   "metadata": {},
   "outputs": [],
   "source": [
    "cnn.add(tf.keras.layers.Dropout(.1))"
   ]
  },
  {
   "cell_type": "code",
   "execution_count": 229,
   "metadata": {},
   "outputs": [],
   "source": [
    "cnn.add(tf.keras.layers.Dense(units=1, activation='sigmoid'))"
   ]
  },
  {
   "cell_type": "code",
   "execution_count": 230,
   "metadata": {},
   "outputs": [],
   "source": [
    "cnn.add(tf.keras.layers.BatchNormalization())"
   ]
  },
  {
   "cell_type": "code",
   "execution_count": 231,
   "metadata": {},
   "outputs": [],
   "source": [
    "cnn.add(tf.keras.layers.Dropout(.1))"
   ]
  },
  {
   "cell_type": "code",
   "execution_count": 232,
   "metadata": {},
   "outputs": [],
   "source": [
    "cnn.compile(optimizer = 'adam', loss = 'binary_crossentropy', metrics = ['accuracy'])"
   ]
  },
  {
   "cell_type": "code",
   "execution_count": 234,
   "metadata": {},
   "outputs": [],
   "source": [
    "x_train = np.load('portion/ncRNApairdataDAFS_test.npy')\n",
    "y_train = np.load('portion/ncRNApairlabel_test.npy')"
   ]
  },
  {
   "cell_type": "code",
   "execution_count": 235,
   "metadata": {
    "scrolled": true
   },
   "outputs": [
    {
     "name": "stdout",
     "output_type": "stream",
     "text": [
      "Epoch 1/25\n",
      "56/56 [==============================] - 4s 64ms/step - loss: 5.5661 - accuracy: 0.5153\n",
      "Epoch 2/25\n",
      "56/56 [==============================] - 4s 63ms/step - loss: 4.9445 - accuracy: 0.5554\n",
      "Epoch 3/25\n",
      "56/56 [==============================] - 4s 63ms/step - loss: 5.2144 - accuracy: 0.5441\n",
      "Epoch 4/25\n",
      "56/56 [==============================] - 3s 62ms/step - loss: 4.7427 - accuracy: 0.5712\n",
      "Epoch 5/25\n",
      "56/56 [==============================] - 4s 64ms/step - loss: 4.5085 - accuracy: 0.6040\n",
      "Epoch 6/25\n",
      "56/56 [==============================] - 4s 63ms/step - loss: 4.2957 - accuracy: 0.6113\n",
      "Epoch 7/25\n",
      "56/56 [==============================] - 4s 63ms/step - loss: 4.5138 - accuracy: 0.5966\n",
      "Epoch 8/25\n",
      "56/56 [==============================] - 4s 67ms/step - loss: 4.4942 - accuracy: 0.5989\n",
      "Epoch 9/25\n",
      "56/56 [==============================] - 4s 72ms/step - loss: 4.0744 - accuracy: 0.6243\n",
      "Epoch 10/25\n",
      "56/56 [==============================] - 4s 71ms/step - loss: 3.5042 - accuracy: 0.6390\n",
      "Epoch 11/25\n",
      "56/56 [==============================] - 4s 76ms/step - loss: 3.2718 - accuracy: 0.6554\n",
      "Epoch 12/25\n",
      "56/56 [==============================] - 4s 78ms/step - loss: 3.3713 - accuracy: 0.6633\n",
      "Epoch 13/25\n",
      "56/56 [==============================] - 5s 84ms/step - loss: 3.5021 - accuracy: 0.6514\n",
      "Epoch 14/25\n",
      "56/56 [==============================] - 4s 76ms/step - loss: 3.3899 - accuracy: 0.6740\n",
      "Epoch 15/25\n",
      "56/56 [==============================] - 4s 77ms/step - loss: 3.2577 - accuracy: 0.6780\n",
      "Epoch 16/25\n",
      "56/56 [==============================] - 4s 78ms/step - loss: 3.0895 - accuracy: 0.6819\n",
      "Epoch 17/25\n",
      "56/56 [==============================] - 5s 81ms/step - loss: 3.0335 - accuracy: 0.6960\n",
      "Epoch 18/25\n",
      "56/56 [==============================] - 5s 83ms/step - loss: 3.3176 - accuracy: 0.6740\n",
      "Epoch 19/25\n",
      "56/56 [==============================] - 5s 83ms/step - loss: 2.5960 - accuracy: 0.7209\n",
      "Epoch 20/25\n",
      "56/56 [==============================] - 5s 83ms/step - loss: 2.8123 - accuracy: 0.7085\n",
      "Epoch 21/25\n",
      "56/56 [==============================] - 5s 84ms/step - loss: 2.6976 - accuracy: 0.7079\n",
      "Epoch 22/25\n",
      "56/56 [==============================] - 5s 82ms/step - loss: 2.7311 - accuracy: 0.7169\n",
      "Epoch 23/25\n",
      "56/56 [==============================] - 5s 84ms/step - loss: 2.4573 - accuracy: 0.7316\n",
      "Epoch 24/25\n",
      "56/56 [==============================] - 5s 84ms/step - loss: 2.6554 - accuracy: 0.7130\n",
      "Epoch 25/25\n",
      "56/56 [==============================] - 5s 89ms/step - loss: 2.4819 - accuracy: 0.7254\n"
     ]
    },
    {
     "data": {
      "text/plain": [
       "<tensorflow.python.keras.callbacks.History at 0x13734b57e48>"
      ]
     },
     "execution_count": 235,
     "metadata": {},
     "output_type": "execute_result"
    }
   ],
   "source": [
    "cnn.fit(x = x_train, y = y_train, epochs = 25)"
   ]
  },
  {
   "cell_type": "code",
   "execution_count": 57,
   "metadata": {},
   "outputs": [],
   "source": [
    "tf.config.experimental_run_functions_eagerly(True)"
   ]
  },
  {
   "cell_type": "markdown",
   "metadata": {},
   "source": [
    "# Predict training set"
   ]
  },
  {
   "cell_type": "code",
   "execution_count": 266,
   "metadata": {},
   "outputs": [],
   "source": [
    "y_pred_train = cnn.predict(x_train)"
   ]
  },
  {
   "cell_type": "code",
   "execution_count": 270,
   "metadata": {},
   "outputs": [
    {
     "data": {
      "text/plain": [
       "(1770, 1)"
      ]
     },
     "execution_count": 270,
     "metadata": {},
     "output_type": "execute_result"
    }
   ],
   "source": [
    "y_pred_train.shape"
   ]
  },
  {
   "cell_type": "code",
   "execution_count": 61,
   "metadata": {},
   "outputs": [],
   "source": [
    "from sklearn.metrics import confusion_matrix, accuracy_score"
   ]
  },
  {
   "cell_type": "code",
   "execution_count": 272,
   "metadata": {},
   "outputs": [],
   "source": [
    "y_pred_train = y_pred_train.reshape((1770,))"
   ]
  },
  {
   "cell_type": "code",
   "execution_count": 277,
   "metadata": {},
   "outputs": [],
   "source": [
    "res = []\n",
    "for i in y_pred_train:\n",
    "    if i<0.5: res.append(0)\n",
    "    else:\n",
    "        res.append(1)"
   ]
  },
  {
   "cell_type": "code",
   "execution_count": 278,
   "metadata": {},
   "outputs": [
    {
     "data": {
      "text/plain": [
       "1770"
      ]
     },
     "execution_count": 278,
     "metadata": {},
     "output_type": "execute_result"
    }
   ],
   "source": [
    "len(res)"
   ]
  },
  {
   "cell_type": "code",
   "execution_count": 279,
   "metadata": {},
   "outputs": [
    {
     "data": {
      "text/plain": [
       "1770"
      ]
     },
     "execution_count": 279,
     "metadata": {},
     "output_type": "execute_result"
    }
   ],
   "source": [
    "len(y_train)"
   ]
  },
  {
   "cell_type": "code",
   "execution_count": 280,
   "metadata": {},
   "outputs": [
    {
     "data": {
      "text/plain": [
       "array([[  18,  252],\n",
       "       [  82, 1418]], dtype=int64)"
      ]
     },
     "execution_count": 280,
     "metadata": {},
     "output_type": "execute_result"
    }
   ],
   "source": [
    "confusion_matrix(y_train, res)"
   ]
  },
  {
   "cell_type": "code",
   "execution_count": 282,
   "metadata": {},
   "outputs": [
    {
     "data": {
      "text/plain": [
       "0.8112994350282486"
      ]
     },
     "execution_count": 282,
     "metadata": {},
     "output_type": "execute_result"
    }
   ],
   "source": [
    "accuracy_score(res,y_train)"
   ]
  },
  {
   "cell_type": "markdown",
   "metadata": {},
   "source": [
    "# Predict test set"
   ]
  },
  {
   "cell_type": "code",
   "execution_count": 283,
   "metadata": {},
   "outputs": [
    {
     "data": {
      "text/plain": [
       "(117,)"
      ]
     },
     "execution_count": 283,
     "metadata": {},
     "output_type": "execute_result"
    }
   ],
   "source": [
    "y_test.shape"
   ]
  },
  {
   "cell_type": "code",
   "execution_count": 284,
   "metadata": {},
   "outputs": [
    {
     "data": {
      "text/plain": [
       "(117, 1200, 16)"
      ]
     },
     "execution_count": 284,
     "metadata": {},
     "output_type": "execute_result"
    }
   ],
   "source": [
    "x_test.shape"
   ]
  },
  {
   "cell_type": "code",
   "execution_count": 285,
   "metadata": {},
   "outputs": [],
   "source": [
    "y_test_pred  = cnn.predict(x_test)"
   ]
  },
  {
   "cell_type": "code",
   "execution_count": 298,
   "metadata": {},
   "outputs": [],
   "source": [
    "res_test = []\n",
    "for i in y_test_pred:\n",
    "    if i<0.5: res_test.append(0)\n",
    "    else:\n",
    "        res_test.append(1)"
   ]
  },
  {
   "cell_type": "code",
   "execution_count": 299,
   "metadata": {},
   "outputs": [
    {
     "data": {
      "text/plain": [
       "array([[ 1, 16],\n",
       "       [ 2, 98]], dtype=int64)"
      ]
     },
     "execution_count": 299,
     "metadata": {},
     "output_type": "execute_result"
    }
   ],
   "source": [
    "confusion_matrix(y_test, res_test)"
   ]
  },
  {
   "cell_type": "code",
   "execution_count": 300,
   "metadata": {},
   "outputs": [
    {
     "data": {
      "text/plain": [
       "0.8461538461538461"
      ]
     },
     "execution_count": 300,
     "metadata": {},
     "output_type": "execute_result"
    }
   ],
   "source": [
    "accuracy_score(res_test,y_test)"
   ]
  }
 ],
 "metadata": {
  "kernelspec": {
   "display_name": "Python 3",
   "language": "python",
   "name": "python3"
  },
  "language_info": {
   "codemirror_mode": {
    "name": "ipython",
    "version": 3
   },
   "file_extension": ".py",
   "mimetype": "text/x-python",
   "name": "python",
   "nbconvert_exporter": "python",
   "pygments_lexer": "ipython3",
   "version": "3.7.6"
  }
 },
 "nbformat": 4,
 "nbformat_minor": 4
}
